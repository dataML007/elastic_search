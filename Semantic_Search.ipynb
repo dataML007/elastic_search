{
 "cells": [
  {
   "cell_type": "code",
   "execution_count": 40,
   "metadata": {},
   "outputs": [
    {
     "data": {
      "text/plain": [
       "{'text': \"The purpose of this document is to capture frequently asked technical questions\\nThe exact day and hour of the course will be 15th Jan 2024 at 17h00. The course will start with the first  “Office Hours'' live.1\\nSubscribe to course public Google Calendar (it works from Desktop only).\\nRegister before the course starts using this link.\\nJoin the course Telegram channel with announcements.\\nDon’t forget to register in DataTalks.Club's Slack and join the channel.\",\n",
       " 'section': 'General course-related questions',\n",
       " 'question': 'Course - When will the course start?',\n",
       " 'course': 'data-engineering-zoomcamp'}"
      ]
     },
     "execution_count": 40,
     "metadata": {},
     "output_type": "execute_result"
    }
   ],
   "source": [
    "import json\n",
    "\n",
    "with open('documents.json', 'rt') as f_in:\n",
    "    docs_raw = json.load(f_in)\n",
    "\n",
    "\n",
    "documents = []\n",
    "\n",
    "for course_dict in docs_raw:\n",
    "    for doc in course_dict['documents']:\n",
    "        doc['course'] = course_dict['course']\n",
    "        documents.append(doc)\n",
    "\n",
    "documents[0]\n"
   ]
  },
  {
   "cell_type": "code",
   "execution_count": 41,
   "metadata": {},
   "outputs": [],
   "source": [
    "from elasticsearch import Elasticsearch\n",
    "es_client = Elasticsearch('http://localhost:9200') \n"
   ]
  },
  {
   "cell_type": "code",
   "execution_count": 42,
   "metadata": {},
   "outputs": [
    {
     "data": {
      "text/plain": [
       "ObjectApiResponse({'acknowledged': True, 'shards_acknowledged': True, 'index': 'course-questions'})"
      ]
     },
     "execution_count": 42,
     "metadata": {},
     "output_type": "execute_result"
    }
   ],
   "source": [
    "index_settings = {\n",
    "    \"settings\": {\n",
    "        \"number_of_shards\": 1,\n",
    "        \"number_of_replicas\": 0\n",
    "    },\n",
    "    \"mappings\": {\n",
    "        \"properties\": {\n",
    "            \"text\": {\"type\": \"text\"},\n",
    "            \"section\": {\"type\": \"text\"},\n",
    "            \"question\": {\"type\": \"text\"},\n",
    "            \"course\": {\"type\": \"keyword\"} ,\n",
    "            \"text_vector\":{\"type\":\"dense_vector\",\"dims\": 768,\"index\":True,\"similarity\": \"cosine\"\n",
    "        },\n",
    "        }\n",
    "    }\n",
    "}\n",
    "\n",
    "index_name = \"course-questions\"\n",
    "\n",
    "# Create the index\n",
    "es_client.indices.delete(index=index_name, ignore_unavailable=True)\n",
    "es_client.indices.create(index=index_name, body=index_settings)"
   ]
  },
  {
   "cell_type": "code",
   "execution_count": 43,
   "metadata": {},
   "outputs": [],
   "source": [
    "from tqdm.auto import tqdm"
   ]
  },
  {
   "cell_type": "code",
   "execution_count": 44,
   "metadata": {},
   "outputs": [
    {
     "name": "stderr",
     "output_type": "stream",
     "text": [
      "c:\\elasticsearch_tutorial\\elastic_search_yt\\elastic_vector_db\\.venv\\lib\\site-packages\\huggingface_hub\\file_download.py:1132: FutureWarning: `resume_download` is deprecated and will be removed in version 1.0.0. Downloads always resume when possible. If you want to force a new download, use `force_download=True`.\n",
      "  warnings.warn(\n"
     ]
    }
   ],
   "source": [
    "# initialize pre-trained model\n",
    "\n",
    "# This is a new library compared to the previous modules. \n",
    "# Please perform \"pip install SentenceTransformer==2.7.0\"\n",
    "\n",
    "from sentence_transformers import SentenceTransformer\n",
    "model = SentenceTransformer(\"all-mpnet-base-v2\")\n",
    "\n",
    "# if you get an error do the following:\n",
    "# 1. Uninstall numpy \n",
    "# 2. Uninstall torch\n",
    "# 3. pip install numpy==1.26.4\n",
    "# 4. pip install torch\n",
    "# run the above cell, it should work"
   ]
  },
  {
   "cell_type": "code",
   "execution_count": 45,
   "metadata": {},
   "outputs": [],
   "source": [
    "#created the dense vector using the pre-trained model\n",
    "operations = []\n",
    "for doc in documents:\n",
    "    #operations.append({\"index\": {\"_index\": \"doc_ix\"}})\n",
    "    # Transforming the title into an embedding using the model\n",
    "    doc[\"text_vector\"] = model.encode(doc[\"text\"]).tolist()\n",
    "    operations.append(doc)"
   ]
  },
  {
   "cell_type": "code",
   "execution_count": 46,
   "metadata": {},
   "outputs": [],
   "source": [
    "for doc in operations:\n",
    "    try:\n",
    "        es_client.index(index=index_name, document=doc)\n",
    "    except Exception as e:\n",
    "        print(e)"
   ]
  },
  {
   "cell_type": "code",
   "execution_count": 47,
   "metadata": {},
   "outputs": [
    {
     "data": {
      "text/plain": [
       "[{'_index': 'course-questions',\n",
       "  '_id': '8r09XpABu_nDrJkJuUvq',\n",
       "  '_score': 0.7147919,\n",
       "  '_source': {'question': 'Environment - Is the course [Windows/mac/Linux/...] friendly?',\n",
       "   'course': 'data-engineering-zoomcamp',\n",
       "   'section': 'General course-related questions',\n",
       "   'text': 'Yes! Linux is ideal but technically it should not matter. Students last year used all 3 OSes successfully'}},\n",
       " {'_index': 'course-questions',\n",
       "  '_id': 'Bb0-XpABu_nDrJkJcU9g',\n",
       "  '_score': 0.6134734,\n",
       "  '_source': {'question': 'WSL instructions',\n",
       "   'course': 'mlops-zoomcamp',\n",
       "   'section': 'Module 1: Introduction',\n",
       "   'text': 'If you wish to use WSL on your windows machine, here are the setup instructions:\\nCommand: Sudo apt install wget\\nGet Anaconda download address here. wget <download address>\\nTurn on Docker Desktop WFree Download | AnacondaSL2\\nCommand: git clone <github repository address>\\nVSCODE on WSL\\nJupyter: pip3 install jupyter\\nAdded by Gregory Morris (gwm1980@gmail.com)\\nAll in all softwares at one shop:\\nYou can use anaconda which has all built in services like pycharm, jupyter\\nAdded by Khaja Zaffer (khajazaffer@aln.iseg.ulisboa.pt)\\nFor windows “wsl --install” in Powershell\\nAdded by Vadim Surin (vdmsurin@gmai.com)'}},\n",
       " {'_index': 'course-questions',\n",
       "  '_id': 'xr0-XpABu_nDrJkJJk3G',\n",
       "  '_score': 0.60555583,\n",
       "  '_source': {'question': \"The answer I get for one of the homework questions doesn't match any of the options. What should I do?\",\n",
       "   'course': 'machine-learning-zoomcamp',\n",
       "   'section': '2. Machine Learning for Regression',\n",
       "   'text': 'That’s normal. We all have different environments: our computers have different versions of OS and different versions of libraries — even different versions of Python.\\nIf it’s the case, just select the option that’s closest to your answer'}},\n",
       " {'_index': 'course-questions',\n",
       "  '_id': 'H70-XpABu_nDrJkJO06N',\n",
       "  '_score': 0.60289603,\n",
       "  '_source': {'question': 'How to install WSL on Windows 10 and 11 ?',\n",
       "   'course': 'machine-learning-zoomcamp',\n",
       "   'section': '5. Deploying Machine Learning Models',\n",
       "   'text': 'It is quite simple, and you can follow these instructions here:\\nhttps://www.youtube.com/watch?v=qYlgUDKKK5A&ab_channel=NeuralNine\\nMake sure that you have “Virtual Machine Platform” feature activated in your Windows “Features”. To do that, search “features” in the research bar and see if the checkbox is selected. You also need to make sure that your system (in the bios) is able to virtualize. This is usually the case.\\nIn the Microsoft Store: look for ‘Ubuntu’ or ‘Debian’ (or any linux distribution you want) and install it\\nOnce it is downloaded, open the app and choose a username and a password (secured one). When you type your password, nothing will show in the window, which is normal: the writing is invisible.\\nYou are now inside of your linux system. You can test some commands such as “pwd”. You are not in your Windows system.\\nTo go to your windows system: you need to go back two times with cd ../.. And then go to the “mnt” directory with cd mnt. If you list here your files, you will see your disks. You can move to the desired folder, for example here I moved to the ML_Zoomcamp folder:\\nPython should be already installed but you can check it by running sudo apt install python3 command.\\nYou can make your actual folder your default folder when you open your Ubuntu terminal with this command : echo \"cd ../../mnt/your/folder/path\" >> ~/.bashrc\\nYou can disable bell sounds (when you type something that does not exist for example) by modifying the inputrc file with this command: sudo vim /etc/inputrc\\nYou have to uncomment the set bell-style none line -> to do that, press the “i” keyboard letter (for insert) and go with your keyboard to this line. Delete the # and then press the Escape keyboard touch and finally press “:wq” to write (it saves your modifications) then quit.\\nYou can check that your modifications are taken into account by opening a new terminal (you can pin it to your task bar so you do not have to go to the Microsoft app each time).\\nYou will need to install pip by running this command sudo apt install python3-pip\\nNB: I had this error message when trying to install pipenv (https://github.com/microsoft/WSL/issues/5663):\\n/sbin/ldconfig.real: Can\\'t link /usr/lib/wsl/lib/libnvoptix_loader.so.1 to libnvoptix.so.1\\n/sbin/ldconfig.real: /usr/lib/wsl/lib/libcuda.so.1 is not a symbolic link\\nSo I had to create the following symbolic link:\\nsudo ln -s /usr/lib/wsl/lib/libcuda.so.1 /usr/lib64/libcuda.so\\n(Mélanie Fouesnard)'}},\n",
       " {'_index': 'course-questions',\n",
       "  '_id': '4709XpABu_nDrJkJtkuD',\n",
       "  '_score': 0.5985867,\n",
       "  '_source': {'question': 'Environment - Should I use my local machine, GCP, or GitHub Codespaces for my environment?',\n",
       "   'course': 'data-engineering-zoomcamp',\n",
       "   'section': 'General course-related questions',\n",
       "   'text': 'You can set it up on your laptop or PC if you prefer to work locally from your laptop or PC.\\nYou might face some challenges, especially for Windows users. If you face cnd2\\nIf you prefer to work on the local machine, you may start with the week 1 Introduction to Docker and follow through.\\nHowever, if you prefer to set up a virtual machine, you may start with these first:\\nUsing GitHub Codespaces\\nSetting up the environment on a cloudV Mcodespace\\nI decided to work on a virtual machine because I have different laptops & PCs for my home & office, so I can work on this boot camp virtually anywhere.'}}]"
      ]
     },
     "execution_count": 47,
     "metadata": {},
     "output_type": "execute_result"
    }
   ],
   "source": [
    "search_term = \"windows or mac?\"\n",
    "vector_search_term = model.encode(search_term)\n",
    "\n",
    "query = {\n",
    "    \"field\" : \"text_vector\",\n",
    "    \"query_vector\" :  vector_search_term,\n",
    "    \"k\" : 5,\n",
    "    \"num_candidates\" : 10000, \n",
    "}\n",
    "\n",
    "res = es_client.search(index=index_name, knn=query,source=[\"text\",\"section\",\"question\",\"course\"])\n",
    "res[\"hits\"][\"hits\"]"
   ]
  },
  {
   "cell_type": "code",
   "execution_count": 48,
   "metadata": {},
   "outputs": [],
   "source": [
    "response = es_client.search(\n",
    "    index=index_name,\n",
    "    query={\n",
    "        \"bool\": {\n",
    "            \"must\": {\n",
    "             \"multi_match\": \n",
    "                        {\"query\": \"windows or python?\", \n",
    "                         \"fields\": [\"text\", \"question\",\"course\",\"title\"],\n",
    "                         \"type\": \"best_fields\"\n",
    "                        }\n",
    "                    },\n",
    "            \"filter\": {\n",
    "                \"term\": {\n",
    "                        \"course\": \"data-engineering-zoomcamp\"\n",
    "            }\n",
    "        }\n",
    "        }\n",
    "    }\n",
    ")"
   ]
  },
  {
   "cell_type": "code",
   "execution_count": 49,
   "metadata": {},
   "outputs": [],
   "source": [
    "def pretty_response(response):\n",
    "    if len(response[\"hits\"][\"hits\"]) == 0:\n",
    "        print(\"Your search returned no results.\")\n",
    "    else:\n",
    "        for hit in response[\"hits\"][\"hits\"]:\n",
    "            id = hit[\"_id\"]\n",
    "            text = hit[\"_source\"][\"text\"]\n",
    "            score = hit[\"_score\"]\n",
    "            section = hit[\"_source\"][\"section\"]\n",
    "            question = hit[\"_source\"][\"question\"]\n",
    "            course = hit[\"_source\"][\"course\"]\n",
    "            pretty_output = f\"\\nID: {id}\\text: {text}\\nSection: {section}\\nQuestion: {question}\\nCourse: {course}\\nScore: {score}\"\n",
    "            print(pretty_output)\n"
   ]
  },
  {
   "cell_type": "code",
   "execution_count": 50,
   "metadata": {},
   "outputs": [
    {
     "name": "stdout",
     "output_type": "stream",
     "text": [
      "\n",
      "ID: OL09XpABu_nDrJkJykwM\text: Problem: If you have already installed pgcli but bash doesn't recognize pgcli\n",
      "On Git bash: bash: pgcli: command not found\n",
      "On Windows Terminal: pgcli: The term 'pgcli' is not recognized…\n",
      "Solution: Try adding a Python path C:\\Users\\...\\AppData\\Roaming\\Python\\Python39\\Scripts to Windows PATH\n",
      "For details:\n",
      "Get the location: pip list -v\n",
      "Copy C:\\Users\\...\\AppData\\Roaming\\Python\\Python39\\site-packages\n",
      "3. Replace site-packages with Scripts: C:\\Users\\...\\AppData\\Roaming\\Python\\Python39\\Scripts\n",
      "It can also be that you have Python installed elsewhere.\n",
      "For me it was under c:\\python310\\lib\\site-packages\n",
      "So I had to add c:\\python310\\lib\\Scripts to PATH, as shown below.\n",
      "Put the above path in \"Path\" (or \"PATH\") in System Variables\n",
      "Reference: https://stackoverflow.com/a/68233660\n",
      "Section: Module 1: Docker and Terraform\n",
      "Question: PGCLI - pgcli: command not found\n",
      "Course: data-engineering-zoomcamp\n",
      "Score: 7.728908\n",
      "\n",
      "ID: _709XpABu_nDrJkJvEvN\text: “wget is not recognized as an internal or external command”, you need to install it.\n",
      "On Ubuntu, run:\n",
      "$ sudo apt-get install wget\n",
      "On MacOS, the easiest way to install wget is to use Brew:\n",
      "$ brew install wget\n",
      "On Windows, the easiest way to install wget is to use Chocolatey:\n",
      "$ choco install wget\n",
      "Or you can download a binary (https://gnuwin32.sourceforge.net/packages/wget.htm) and put it to any location in your PATH (e.g. C:/tools/)\n",
      "Also, you can following this step to install Wget on MS Windows\n",
      "* Download the latest wget binary for windows from [eternallybored] (https://eternallybored.org/misc/wget/) (they are available as a zip with documentation, or just an exe)\n",
      "* If you downloaded the zip, extract all (if windows built in zip utility gives an error, use [7-zip] (https://7-zip.org/)).\n",
      "* Rename the file `wget64.exe` to `wget.exe` if necessary.\n",
      "* Move wget.exe to your `Git\\mingw64\\bin\\`.\n",
      "Alternatively, you can use a Python wget library, but instead of simply using “wget” you’ll need to use\n",
      "python -m wget\n",
      "You need to install it with pip first:\n",
      "pip install wget\n",
      "Alternatively, you can just paste the file URL into your web browser and download the file normally that way. You’ll want to move the resulting file into your working directory.\n",
      "Also recommended a look at the python library requests for the loading gz file  https://pypi.org/project/requests\n",
      "Section: Module 1: Docker and Terraform\n",
      "Question: lwget is not recognized as an internal or external command\n",
      "Course: data-engineering-zoomcamp\n",
      "Score: 7.3809814\n",
      "\n",
      "ID: fr0-XpABu_nDrJkJFU3u\text: Example Error:\n",
      "When attempting to execute a Python script named seed-kafka.py or server.py with the following shebang line specifying Python 3 as the interpreter:\n",
      "Users may encounter the following error in a Unix-like environment:\n",
      "This error indicates that there is a problem with the Python interpreter path specified in the shebang line. The presence of the \\r character suggests that the script was edited or created in a Windows environment, causing the interpreter path to be incorrect when executed in Unix-like environments.\n",
      "2 Solutions:\n",
      "Either one or the other\n",
      "Update Shebang Line:\n",
      "Verify Python Interpreter Path: Use the which python3 command to determine the path to the Python 3 interpreter available in the current environment.\n",
      "Update Shebang Line: Open the script file in a text editor. Modify the shebang line to point to the correct Python interpreter path found in the previous step. Ensure that the shebang line is consistent with the Python interpreter path in the execution environment.\n",
      "Example Shebang Line:\n",
      "Replace /usr/bin/env python3 with the correct Python interpreter path found using which python3.\n",
      "Convert Line Endings:\n",
      "Use the dos2unix command-line tool to convert the line endings of the script from Windows-style to Unix-style.\n",
      "This removes the extraneous carriage return characters (\\r), resolving issues related to unexpected tokens and ensuring compatibility with Unix-like environments.\n",
      "Example Command:\n",
      "Section: Workshop 2 - RisingWave\n",
      "Question: Resolving Python Interpreter Path Inconsistencies in Unix-like Environments\n",
      "Course: data-engineering-zoomcamp\n",
      "Score: 7.37549\n",
      "\n",
      "ID: bb09XpABu_nDrJkJ1kw4\text: If you use Anaconda (recommended for the course), it comes with pip, so the issues is probably that the anaconda’s Python is not on the PATH.\n",
      "Adding it to the PATH is different for each operation system.\n",
      "For Linux and MacOS:\n",
      "Open a terminal.\n",
      "Find the path to your Anaconda installation. This is typically `~/anaconda3` or `~/opt/anaconda3`.\n",
      "Add Anaconda to your PATH with the command: `export PATH=\"/path/to/anaconda3/bin:$PATH\"`.\n",
      "To make this change permanent, add the command to your `.bashrc` (Linux) or `.bash_profile` (MacOS) file.\n",
      "On Windows, python and pip are in different locations (python is in the anaconda root, and pip is in Scripts). With GitBash:\n",
      "Locate your Anaconda installation. The default path is usually `C:\\Users\\[YourUsername]\\Anaconda3`.\n",
      "Determine the correct path format for Git Bash. Paths in Git Bash follow the Unix-style, so convert the Windows path to a Unix-style path. For example, `C:\\Users\\[YourUsername]\\Anaconda3` becomes `/c/Users/[YourUsername]/Anaconda3`.\n",
      "Add Anaconda to your PATH with the command: `export PATH=\"/c/Users/[YourUsername]/Anaconda3/:/c/Users/[YourUsername]/Anaconda3/Scripts/$PATH\"`.\n",
      "To make this change permanent, add the command to your `.bashrc` file in your home directory.\n",
      "Refresh your environment with the command: `source ~/.bashrc`.\n",
      "For Windows (without Git Bash):\n",
      "Right-click on 'This PC' or 'My Computer' and select 'Properties'.\n",
      "Click on 'Advanced system settings'.\n",
      "In the System Properties window, click on 'Environment Variables'.\n",
      "In the Environment Variables window, select the 'Path' variable in the 'System variables' section and click 'Edit'.\n",
      "In the Edit Environment Variable window, click 'New' and add the path to your Anaconda installation (typically `C:\\Users\\[YourUsername]\\Anaconda3` and C:\\Users\\[YourUsername]\\Anaconda3\\Scripts`).\n",
      "Click 'OK' in all windows to apply the changes.\n",
      "After adding Anaconda to the PATH, you should be able to use `pip` from the command line. Remember to restart your terminal (or command prompt in Windows) to apply these changes.\n",
      "Section: Module 1: Docker and Terraform\n",
      "Question: 'pip' is not recognized as an internal or external command, operable program or batch file.\n",
      "Course: data-engineering-zoomcamp\n",
      "Score: 6.803908\n",
      "\n",
      "ID: Q70-XpABu_nDrJkJCE04\text: Solution from Alexey: create a virtual environment and run requirements.txt and the python files in that environment.\n",
      "To create a virtual env and install packages (run only once)\n",
      "python -m venv env\n",
      "source env/bin/activate\n",
      "pip install -r ../requirements.txt\n",
      "To activate it (you'll need to run it every time you need the virtual env):\n",
      "source env/bin/activate\n",
      "To deactivate it:\n",
      "deactivate\n",
      "This works on MacOS, Linux and Windows - but for Windows the path is slightly different (it's env/Scripts/activate)\n",
      "Also the virtual environment should be created only to run the python file. Docker images should first all be up and running.\n",
      "Section: Module 6: streaming with kafka\n",
      "Question: Module “kafka” not found when trying to run producer.py\n",
      "Course: data-engineering-zoomcamp\n",
      "Score: 6.431816\n",
      "\n",
      "ID: eL0-XpABu_nDrJkJFE2G\text: Below I have listed some steps I took to rectify this and potentially other minor errors, in Windows:\n",
      "Use the git bash terminal in windows.\n",
      "Activate python venv from git bash: source .venv/Scripts/activate\n",
      "Modify the seed_kafka.py file: in the first line, replace python3 with python.\n",
      "Now from git bash, run the seed-kafka cmd. It should work now.\n",
      "Additional Notes:\n",
      "You can connect to the RisingWave cluster from Powershell with the command psql -h localhost -p 4566 -d dev -U root , otherwise it asks for a password.\n",
      "The equivalent of source commands.sh  in Powershell is . .\\commands.sh from the workshop directory.\n",
      "Hope this can save you from some trouble in case you're doing this workshop on Windows like I am.\n",
      "—--------------------------------------------------------------------------------------\n",
      "Section: Workshop 2 - RisingWave\n",
      "Question: Psycopg2 InternalError: Failed to run the query - when running the seed-kafka command after initial setup.\n",
      "Course: data-engineering-zoomcamp\n",
      "Score: 6.2787952\n",
      "\n",
      "ID: CL09XpABu_nDrJkJvkzW\text: It is recommended by the Docker do\n",
      "[Windows 10 / 11 Home Edition] If you're running a Home Edition, you can still make it work with WSL2 (Windows Subsystem for Linux) by following the tutorial here\n",
      "If even after making sure your WSL2 (or Hyper-V) is set up accordingly, Docker remains stuck, you can try the option to Reset to Factory Defaults or do a fresh install.\n",
      "Section: Module 1: Docker and Terraform\n",
      "Question: Should I run docker commands from the windows file system or a file system of a Linux distribution in WSL?\n",
      "Course: data-engineering-zoomcamp\n",
      "Score: 5.87179\n",
      "\n",
      "ID: B709XpABu_nDrJkJvkyZ\text: First off, make sure you're running the latest version of Docker for Windows, which you can download from here. Sometimes using the menu to \"Upgrade\" doesn't work (which is another clear indicator for you to uninstall, and reinstall with the latest version)\n",
      "If docker is stuck on starting, first try to switch containers by right clicking the docker symbol from the running programs and switch the containers from windows to linux or vice versa\n",
      "[Windows 10 / 11 Pro Edition] The Pro Edition of Windows can run Docker either by using Hyper-V or WSL2 as its backend (Docker Engine)\n",
      "In order to use Hyper-V as its back-end, you MUST have it enabled first, which you can do by following the tutorial: Enable Hyper-V Option on Windows 10 / 11\n",
      "If you opt-in for WSL2, you can follow the same steps as detailed in the tutorial here\n",
      "Section: Module 1: Docker and Terraform\n",
      "Question: Docker - Docker won't start or is stuck in settings (Windows 10 / 11)\n",
      "Course: data-engineering-zoomcamp\n",
      "Score: 5.7860117\n",
      "\n",
      "ID: BL09XpABu_nDrJkJvUzl\text: As the official Docker for Windows documentation says, the Docker engine can either use the\n",
      "Hyper-V or WSL2 as its backend. However, a few constraints might apply\n",
      "Windows 10 Pro / 11 Pro Users: \n",
      "In order to use Hyper-V as its back-end, you MUST have it enabled first, which you can do by following the tutorial: Enable Hyper-V Option on Windows 10 / 11\n",
      "Windows 10 Home / 11 Home Users: \n",
      "On the other hand, Users of the 'Home' version do NOT have the option Hyper-V option enabled, which means, you can only get Docker up and running using the WSL2 credentials(Windows Subsystem for Linux). Url\n",
      "You can find the detailed instructions to do so here: rt ghttps://pureinfotech.com/install-wsl-windows-11/\n",
      "In case, you run into another issue while trying to install WSL2 (WslRegisterDistribution failed with error: 0x800701bc), Make sure you update the WSL2 Linux Kernel, following the guidelines here: \n",
      "\n",
      "https://github.com/microsoft/WSL/issues/5393\n",
      "Section: Module 1: Docker and Terraform\n",
      "Question: Docker - Error during connect: In the default daemon configuration on Windows, the docker client must be run with elevated privileges to connect.: Post: \"http://%2F%2F.%2Fpipe%2Fdocker_engine/v1.24/containers/create\" : open //./pipe/docker_engine: The system cannot find the file specified\n",
      "Course: data-engineering-zoomcamp\n",
      "Score: 5.4087353\n",
      "\n",
      "ID: u709XpABu_nDrJkJ6Exs\text: A generator is a function in python that returns an iterator using the yield keyword.\n",
      "A generator is a special type of iterable, similar to a list or a tuple, but with a crucial difference. Instead of creating and storing all the values in memory at once, a generator generates values on-the-fly as you iterate over it. This makes generators memory-efficient, particularly when dealing with large datasets.\n",
      "Section: error: Error while reading table: trips_data_all.external_fhv_tripdata, error message: Parquet column 'DOlocationID' has type INT64 which does not match the target cpp_type DOUBLE.\n",
      "Question: Python - Generators in python\n",
      "Course: data-engineering-zoomcamp\n",
      "Score: 5.2785296\n"
     ]
    }
   ],
   "source": [
    "pretty_response(response)"
   ]
  },
  {
   "cell_type": "code",
   "execution_count": null,
   "metadata": {},
   "outputs": [],
   "source": []
  }
 ],
 "metadata": {
  "kernelspec": {
   "display_name": ".venv",
   "language": "python",
   "name": "python3"
  },
  "language_info": {
   "codemirror_mode": {
    "name": "ipython",
    "version": 3
   },
   "file_extension": ".py",
   "mimetype": "text/x-python",
   "name": "python",
   "nbconvert_exporter": "python",
   "pygments_lexer": "ipython3",
   "version": "3.10.11"
  }
 },
 "nbformat": 4,
 "nbformat_minor": 2
}
